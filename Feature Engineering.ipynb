{
 "cells": [
  {
   "cell_type": "markdown",
   "metadata": {},
   "source": [
    "## Feature Engineering"
   ]
  },
  {
   "cell_type": "markdown",
   "metadata": {},
   "source": [
    "    - Engineer features that will be used in predictive modeling"
   ]
  },
  {
   "cell_type": "code",
   "execution_count": 21,
   "metadata": {},
   "outputs": [],
   "source": [
    "import os\n",
    "import pandas as pd\n",
    "import numpy as np"
   ]
  },
  {
   "cell_type": "code",
   "execution_count": 22,
   "metadata": {},
   "outputs": [],
   "source": [
    "# Load data\n",
    "\n",
    "# Get current working directory\n",
    "current = os.getcwd()\n",
    "\n",
    "# Function to import csv from local file directory\n",
    "def load_data(filename):\n",
    "        return pd.read_csv(current + '/' + 'Merged NBA data/' + filename)\n",
    "    \n",
    "df = load_data('2014_all_NBA_games.csv')\n",
    "    \n",
    "# Add FG % differential\n",
    "df.insert(loc = len(df.columns), column = 'FG% Diff', value = None)\n",
    "\n",
    "for i in range(0, len(df)):\n",
    "    # Away team\n",
    "    if i % 2 == 0: \n",
    "        df.loc[i, 'FG% Diff'] = round(df.loc[i, 'FG%'] - df.loc[i+1, 'FG%'],2)\n",
    "        \n",
    "    # Home team\n",
    "    if i % 2 == 1:\n",
    "        df.loc[i, 'FG% Diff'] = round(df.loc[i, 'FG%'] - df.loc[i-1, 'FG%'],2) \n",
    "        \n",
    "# Add REB Differential\n",
    "df.insert(loc = len(df.columns), column = 'REB Diff', value = None)\n",
    "\n",
    "for i in range (0, len(df)):\n",
    "    # Away team\n",
    "    if i % 2 == 0:\n",
    "        df.loc[i, 'REB Diff'] = (df.loc[i, 'TRB'] - df.loc[i+1, 'TRB'])\n",
    "        \n",
    "    if i % 2 == 1:\n",
    "        df.loc[i, 'REB Diff'] = (df.loc[i, 'TRB'] - df.loc[i-1, 'TRB'])     \n",
    "        \n",
    "# Add TO Differential\n",
    "df.insert(loc = len(df.columns), column = 'TO Diff', value = None)\n",
    "\n",
    "for i in range (0, len(df)):\n",
    "    # Away team\n",
    "    if i % 2 == 0:\n",
    "        df.loc[i, 'TO Diff'] = (df.loc[i, 'TOV'] - df.loc[i+1, 'TOV'])\n",
    "        \n",
    "    if i % 2 == 1:\n",
    "        df.loc[i, 'TO Diff'] = (df.loc[i, 'TOV'] - df.loc[i-1, 'TOV'])\n"
   ]
  },
  {
   "cell_type": "code",
   "execution_count": null,
   "metadata": {},
   "outputs": [],
   "source": []
  },
  {
   "cell_type": "code",
   "execution_count": null,
   "metadata": {},
   "outputs": [],
   "source": []
  }
 ],
 "metadata": {
  "kernelspec": {
   "display_name": "Python 3",
   "language": "python",
   "name": "python3"
  },
  "language_info": {
   "codemirror_mode": {
    "name": "ipython",
    "version": 3
   },
   "file_extension": ".py",
   "mimetype": "text/x-python",
   "name": "python",
   "nbconvert_exporter": "python",
   "pygments_lexer": "ipython3",
   "version": "3.8.5"
  }
 },
 "nbformat": 4,
 "nbformat_minor": 4
}
